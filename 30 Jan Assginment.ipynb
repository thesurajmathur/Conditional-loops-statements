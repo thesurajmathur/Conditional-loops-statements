{
 "cells": [
  {
   "cell_type": "markdown",
   "id": "d640bc66-5db3-499e-aed6-f50033287cb2",
   "metadata": {},
   "source": [
    "# Assignment 2"
   ]
  },
  {
   "cell_type": "markdown",
   "id": "fd1448b4-1e25-4f7a-9635-a2138abf452f",
   "metadata": {},
   "source": [
    "### **Question - 1** Write a program to accept percentage from the user and display the grade according to the following ?\n",
    "\n",
    " Marks                Grades\n",
    "\n",
    "A    =            >90\n",
    "\n",
    "B    =            >80 and <=90  \n",
    "\n",
    "C    =            >60 and <=80\n",
    "\n",
    "D    =            Below 60"
   ]
  },
  {
   "cell_type": "code",
   "execution_count": 1,
   "id": "f51c3349-61c7-420e-8710-de0b0393dfd8",
   "metadata": {},
   "outputs": [
    {
     "name": "stdin",
     "output_type": "stream",
     "text": [
      "Enter the marks to get grades 1\n"
     ]
    },
    {
     "name": "stdout",
     "output_type": "stream",
     "text": [
      "D\n"
     ]
    }
   ],
   "source": [
    "#Ans.\n",
    "marks = int(input('Enter the marks to get grades'))\n",
    "if marks >= 90 :\n",
    "    print(\"A\")\n",
    "elif marks >= 80 and marks <90:\n",
    "    print(\"B\")\n",
    "elif marks >= 60 and marks <80:\n",
    "    print(\"C\")\n",
    "else :\n",
    "    print(\"D\")"
   ]
  },
  {
   "cell_type": "markdown",
   "id": "669a9fbe-2279-4580-a85f-bfbf822e0154",
   "metadata": {},
   "source": [
    "### **Question - 2** Write a program to accept the cost price of a bike and display the road tax to be paid according to the following criteria:\n",
    " Tax                Cost Price(in Rs)\n",
    "\n",
    "15%     =            >100000\n",
    "\n",
    "10%     =            >50000 and <=100000\n",
    "\n",
    "5%      =           <=50000 "
   ]
  },
  {
   "cell_type": "code",
   "execution_count": 2,
   "id": "da260895-5033-4069-8e3a-01f15e8b56d2",
   "metadata": {},
   "outputs": [
    {
     "name": "stdin",
     "output_type": "stream",
     "text": [
      "Enter cost price 54524210\n"
     ]
    },
    {
     "name": "stdout",
     "output_type": "stream",
     "text": [
      "15%\n"
     ]
    }
   ],
   "source": [
    "#Ans\n",
    "Tax = int(input('Enter cost price'))\n",
    "if Tax >= 100000 :\n",
    "    print(\"15%\")\n",
    "elif Tax >= 50000 and marks <100000:\n",
    "    print(\"10%\")\n",
    "else :\n",
    "    print(\"5%\")"
   ]
  },
  {
   "cell_type": "markdown",
   "id": "9554987a-298d-4434-8586-68cce53090fa",
   "metadata": {},
   "source": [
    "# **Question - 3** Accept any city from the user and display monuments of that city. \n",
    "\n",
    " City                   Monument \n",
    "\n",
    "Delhi       =           Red Fort \n",
    "\n",
    "Agra        =           Taj Mahal \n",
    "\n",
    "Jaipur      =           Jal Mahal "
   ]
  },
  {
   "cell_type": "code",
   "execution_count": 4,
   "id": "a462d20b-239f-467c-9949-94ad3f7a5120",
   "metadata": {},
   "outputs": [
    {
     "name": "stdin",
     "output_type": "stream",
     "text": [
      "City 0\n"
     ]
    },
    {
     "name": "stdout",
     "output_type": "stream",
     "text": [
      "Please enter from the  list given cites for show Monument \n"
     ]
    }
   ],
   "source": [
    "#Ans \n",
    "City = input('City')\n",
    "if City == 'Delhi' :\n",
    "    print(\"Red Fort\")\n",
    "elif City == 'Agra'  :\n",
    "    print(\"Taj Mahal\")\n",
    "elif City == 'Jaipur'  :\n",
    "    print(\"Jal Mahal\")\n",
    "else :\n",
    "    print(\"Please enter from the  list given cites for show Monument \")"
   ]
  },
  {
   "cell_type": "markdown",
   "id": "15f04b65-e23f-4d4f-945d-0b31512833a7",
   "metadata": {},
   "source": [
    "# **Question - 4** Check how many times a given number can be divided by 3 before it is less than or equal to 10. "
   ]
  },
  {
   "cell_type": "code",
   "execution_count": 11,
   "id": "17b5da24-fb03-42e9-960b-85583a55e279",
   "metadata": {},
   "outputs": [
    {
     "name": "stdin",
     "output_type": "stream",
     "text": [
      "Enter a number:  9\n"
     ]
    },
    {
     "name": "stdout",
     "output_type": "stream",
     "text": [
      "The number can be divided by 3 0 times before it is less than or equal to 10.\n"
     ]
    }
   ],
   "source": [
    "num = int(input(\"Enter a number: \"))\n",
    "count = 0\n",
    "\n",
    "while num > 10:\n",
    "    num = num / 3\n",
    "    count += 1\n",
    "\n",
    "print(\"The number can be divided by 3\", count, \"times before it is less than or equal to 10.\")"
   ]
  },
  {
   "cell_type": "markdown",
   "id": "d8d18b47-30ee-4cb1-86d2-9c64a5fea2fe",
   "metadata": {},
   "source": [
    "# **Question - 5** Why and When to Use while Loop in Python give a detailed description with example. "
   ]
  },
  {
   "cell_type": "markdown",
   "id": "25fad757-7a72-48ac-9c85-1ae9eacfd22e",
   "metadata": {},
   "source": [
    "#### **Ans. 5** The while loop in Python is used to execute a block of statements repeatedly until a given condition is satisfied. The condition is evaluated before the loop runs, and if it evaluates to True then the code within the loop's body will be executed. It can be used for iterating over data structures such as lists and dictionaries, or when a certain condition needs to be met."
   ]
  },
  {
   "cell_type": "markdown",
   "id": "3a4e345d-752b-4219-a91e-9924d0389e1e",
   "metadata": {},
   "source": [
    "# **Question - 6** Use nested while loop to print 3 different pattern. "
   ]
  },
  {
   "cell_type": "markdown",
   "id": "5159515c-7c0b-4b89-89c3-9c544f7bdee6",
   "metadata": {},
   "source": [
    "#### 1. "
   ]
  },
  {
   "cell_type": "code",
   "execution_count": 1,
   "id": "3214ad14-8a56-49e7-b12b-00a87d58fa83",
   "metadata": {},
   "outputs": [
    {
     "name": "stdout",
     "output_type": "stream",
     "text": [
      "1 2 3 4 5 6 7 8 9 10 \n",
      "2 4 6 8 10 12 14 16 18 20 \n",
      "3 6 9 12 15 18 21 24 27 30 \n",
      "4 8 12 16 20 24 28 32 36 40 \n",
      "5 10 15 20 25 30 35 40 45 50 \n",
      "6 12 18 24 30 36 42 48 54 60 \n",
      "7 14 21 28 35 42 49 56 63 70 \n",
      "8 16 24 32 40 48 56 64 72 80 \n",
      "9 18 27 36 45 54 63 72 81 90 \n",
      "10 20 30 40 50 60 70 80 90 100 \n"
     ]
    }
   ],
   "source": [
    "# outer loop\n",
    "for i in range(1, 11):\n",
    "    # nested loop\n",
    "    # to iterate from 1 to 10\n",
    "    for j in range(1, 11):\n",
    "        # print multiplication\n",
    "        print(i * j, end=' ')\n",
    "    print()"
   ]
  },
  {
   "cell_type": "code",
   "execution_count": 1,
   "id": "22aa8afe-5263-456b-b785-3700f2fc285f",
   "metadata": {},
   "outputs": [
    {
     "name": "stdout",
     "output_type": "stream",
     "text": [
      "* \n",
      "* * \n",
      "* * * \n",
      "* * * * \n",
      "* * * * * \n"
     ]
    }
   ],
   "source": [
    "rows = 5\n",
    "# outer loop\n",
    "for i in range(1, rows + 1):\n",
    "    # inner loop\n",
    "    for j in range(1, i + 1):\n",
    "        print(\"*\", end=\" \")\n",
    "    print('')\n",
    "    "
   ]
  },
  {
   "cell_type": "code",
   "execution_count": 2,
   "id": "39212ce1-a538-4296-bf69-e6b04fc9be27",
   "metadata": {},
   "outputs": [
    {
     "name": "stdout",
     "output_type": "stream",
     "text": [
      "Kelly Kelly Kelly Kelly Kelly \n",
      "Jessa Jessa Jessa Jessa Jessa \n",
      "Emma Emma Emma Emma Emma \n"
     ]
    }
   ],
   "source": [
    "names = ['Kelly', 'Jessa', 'Emma']\n",
    "# outer loop\n",
    "for name in names:\n",
    "    # inner while loop\n",
    "    count = 0\n",
    "    while count < 5:\n",
    "        print(name, end=' ')\n",
    "        # increment counter\n",
    "        count = count + 1\n",
    "    print()"
   ]
  },
  {
   "cell_type": "markdown",
   "id": "4cff6b03-ee22-4acf-bdfb-fbb919d55386",
   "metadata": {},
   "source": [
    "# **Question - 7** Reverse a while loop to display numbers from 10 to 1 ?\n"
   ]
  },
  {
   "cell_type": "code",
   "execution_count": 18,
   "id": "60712b92-27d2-425f-9e4e-512d491d42c3",
   "metadata": {},
   "outputs": [
    {
     "name": "stdout",
     "output_type": "stream",
     "text": [
      "10\n",
      "9\n",
      "8\n",
      "7\n",
      "6\n",
      "5\n",
      "4\n",
      "3\n",
      "2\n",
      "1\n",
      "0\n"
     ]
    }
   ],
   "source": [
    "# Ans \n",
    "a = 10\n",
    "\n",
    "while a > 0 :\n",
    "    print(a)\n",
    "    a = a - 1 \n",
    "print(a)"
   ]
  },
  {
   "cell_type": "markdown",
   "id": "532e46cd-4950-479b-bc21-1f906bd15e68",
   "metadata": {},
   "source": [
    "# End "
   ]
  },
  {
   "cell_type": "code",
   "execution_count": null,
   "id": "80e5244c-e624-47f9-a834-e498b67f9f88",
   "metadata": {},
   "outputs": [],
   "source": []
  }
 ],
 "metadata": {
  "kernelspec": {
   "display_name": "Python 3 (ipykernel)",
   "language": "python",
   "name": "python3"
  },
  "language_info": {
   "codemirror_mode": {
    "name": "ipython",
    "version": 3
   },
   "file_extension": ".py",
   "mimetype": "text/x-python",
   "name": "python",
   "nbconvert_exporter": "python",
   "pygments_lexer": "ipython3",
   "version": "3.10.8"
  }
 },
 "nbformat": 4,
 "nbformat_minor": 5
}
